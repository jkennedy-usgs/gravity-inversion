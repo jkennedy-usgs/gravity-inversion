{
 "cells": [
  {
   "cell_type": "markdown",
   "metadata": {
    "heading_collapsed": false,
    "level": 7
   },
   "source": [
    "<div class=\"clearfix\" style=\"padding: 10px; padding-left: 0px\">\n",
    "<a href=\"http://briansimulator.org/\"><img src=\"http://briansimulator.org/WordPress/wp-content/ata-images/brian1.png\" alt=\"The Brian spiking neural network simulator\" title=\"The Brian spiking neural network simulator\" width=\"200px\" style=\"display: inline-block; margin-top: 5px;\"></a>\n",
    "<a href=\"http://mybinder.org/\"><img src=\"https://mybinder.org/static/logo.svg\" alt=\"binder logo\" title=\"binder\" width=\"375px\" class=\"pull-right\" style=\"display: inline-block; margin: 0px;\"></a>\n",
    "</div>\n",
    "# Welcome to the Brian binder\n",
    "\n",
    "This repository is specially designed for trying out Brian on the [mybinder.org](http://mybinder.org) server. \n",
    "The code for Brian module can be found [here](https://github.com/brian-team/brian2) with accompanying <a href=\"http://brian2.readthedocs.io/\" target=\"_blank\">documentation here</a> (which opens in a new window). \n",
    "\n",
    "For updates on Brian2, follow us on [twitter (@briansimulator)](https://twitter.com/briansimulator) or [Facebook](https://www.facebook.com/briansimulator). \n",
    "If you have a script or notebook that you would like included in the examples, especially interactive and published models, please [contact us](https://groups.google.com/forum/#!forum/brian-development). \n",
    "\n",
    "## Interactive demo\n",
    "\n",
    "Click [here](demo.ipynb) for an interactive demo of a Brian model with a graphical interface to modify parameters.\n",
    "\n",
    "## Tutorials"
   ]
  },
  {
   "cell_type": "markdown",
   "metadata": {
    "level": 7
   },
   "source": [
    "* [Introduction to Brian part 1: Neurons](tutorials/1-intro-to-brian-neurons.ipynb)\n",
    "* [Introduction to Brian part 2: Synapses](tutorials/2-intro-to-brian-synapses.ipynb)\n",
    "* [Introduction to Brian part 3: Simulations](tutorials/3-intro-to-brian-simulations.ipynb)\n"
   ]
  },
  {
   "cell_type": "markdown",
   "metadata": {
    "heading_collapsed": false,
    "level": 2
   },
   "source": [
    "## Play with Brian\n",
    "\n",
    "You can edit and run the cells below to try out Brian. Simply click on the cell, edit the code and press `CTRL+ENTER` to run it."
   ]
  },
  {
   "cell_type": "code",
   "execution_count": null,
   "metadata": {
    "level": 7
   },
   "outputs": [],
   "source": [
    "%matplotlib inline\n",
    "from brian2 import *\n",
    "start_scope()\n",
    "# add your code below here"
   ]
  },
  {
   "cell_type": "markdown",
   "metadata": {
    "heading_collapsed": false,
    "level": 2
   },
   "source": [
    "## Examples"
   ]
  },
  {
   "cell_type": "markdown",
   "metadata": {
    "level": 7
   },
   "source": [
    "* [COBAHH](examples/COBAHH.ipynb)\n",
    "* [CUBA](examples/CUBA.ipynb)\n",
    "* [IF_curve_Hodgkin_Huxley](examples/IF_curve_Hodgkin_Huxley.ipynb)\n",
    "* [IF_curve_LIF](examples/IF_curve_LIF.ipynb)\n",
    "* [adaptive_threshold](examples/adaptive_threshold.ipynb)\n",
    "* [non_reliability](examples/non_reliability.ipynb)\n",
    "* [phase_locking](examples/phase_locking.ipynb)\n",
    "* [reliability](examples/reliability.ipynb)\n",
    "\n",
    "### synapses\n",
    "\n",
    "* [STDP](examples/synapses/STDP.ipynb)\n",
    "* [efficient_gaussian_connectivity](examples/synapses/efficient_gaussian_connectivity.ipynb)\n",
    "* [gapjunctions](examples/synapses/gapjunctions.ipynb)\n",
    "* [jeffress](examples/synapses/jeffress.ipynb)\n",
    "* [licklider](examples/synapses/licklider.ipynb)\n",
    "* [nonlinear](examples/synapses/nonlinear.ipynb)\n",
    "* [spatial_connections](examples/synapses/spatial_connections.ipynb)\n",
    "* [state_variables](examples/synapses/state_variables.ipynb)\n",
    "* [synapses](examples/synapses/synapses.ipynb)\n",
    "\n",
    "### advanced\n",
    "\n",
    "* [compare_GSL_to_conventional](examples/advanced/compare_GSL_to_conventional.ipynb)\n",
    "* [custom_events](examples/advanced/custom_events.ipynb)\n",
    "* [opencv_movie](examples/advanced/opencv_movie.ipynb)\n",
    "* [stochastic_odes](examples/advanced/stochastic_odes.ipynb)\n",
    "\n",
    "### frompapers\n",
    "\n",
    "* [Brette_2004](examples/frompapers/Brette_2004.ipynb)\n",
    "* [Brette_Gerstner_2005](examples/frompapers/Brette_Gerstner_2005.ipynb)\n",
    "* [Brette_Guigon_2003](examples/frompapers/Brette_Guigon_2003.ipynb)\n",
    "* [Brunel_Hakim_1999](examples/frompapers/Brunel_Hakim_1999.ipynb)\n",
    "* [Brunel_Wang_2001](examples/frompapers/Brunel_Wang_2001.ipynb)\n",
    "* [Clopath_et_al_2010_homeostasis](examples/frompapers/Clopath_et_al_2010_homeostasis.ipynb)\n",
    "* [Clopath_et_al_2010_no_homeostasis](examples/frompapers/Clopath_et_al_2010_no_homeostasis.ipynb)\n",
    "* [Destexhe_et_al_1998](examples/frompapers/Destexhe_et_al_1998.ipynb)\n",
    "* [Diesmann_et_al_1999](examples/frompapers/Diesmann_et_al_1999.ipynb)\n",
    "* [Hindmarsh_Rose_1984](examples/frompapers/Hindmarsh_Rose_1984.ipynb)\n",
    "* [Kremer_et_al_2011_barrel_cortex](examples/frompapers/Kremer_et_al_2011_barrel_cortex.ipynb)\n",
    "* [Morris_Lecar_1981](examples/frompapers/Morris_Lecar_1981.ipynb)\n",
    "* [Platkiewicz_Brette_2011](examples/frompapers/Platkiewicz_Brette_2011.ipynb)\n",
    "* [Rossant_et_al_2011bis](examples/frompapers/Rossant_et_al_2011bis.ipynb)\n",
    "* [Rothman_Manis_2003](examples/frompapers/Rothman_Manis_2003.ipynb)\n",
    "* [Sturzl_et_al_2000](examples/frompapers/Sturzl_et_al_2000.ipynb)\n",
    "* [Touboul_Brette_2008](examples/frompapers/Touboul_Brette_2008.ipynb)\n",
    "* [Vogels_et_al_2011](examples/frompapers/Vogels_et_al_2011.ipynb)\n",
    "* [Wang_Buszaki_1996](examples/frompapers/Wang_Buszaki_1996.ipynb)\n",
    "\n",
    "#### frompapers/Brette_2012\n",
    "\n",
    "* [Fig1](examples/frompapers/Brette_2012/Fig1.ipynb)\n",
    "* [Fig3AB](examples/frompapers/Brette_2012/Fig3AB.ipynb)\n",
    "* [Fig3CF](examples/frompapers/Brette_2012/Fig3CF.ipynb)\n",
    "* [Fig4](examples/frompapers/Brette_2012/Fig4.ipynb)\n",
    "* [Fig5A](examples/frompapers/Brette_2012/Fig5A.ipynb)\n",
    "* [params](examples/frompapers/Brette_2012/params.ipynb)\n",
    "\n",
    "#### frompapers/Stimberg_et_al_2018\n",
    "\n",
    "* [example_1_COBA](examples/frompapers/Stimberg_et_al_2018/example_1_COBA.ipynb)\n",
    "* [example_2_gchi_astrocyte](examples/frompapers/Stimberg_et_al_2018/example_2_gchi_astrocyte.ipynb)\n",
    "* [example_3_io_synapse](examples/frompapers/Stimberg_et_al_2018/example_3_io_synapse.ipynb)\n",
    "* [example_4_rsmean](examples/frompapers/Stimberg_et_al_2018/example_4_rsmean.ipynb)\n",
    "* [example_4_synrel](examples/frompapers/Stimberg_et_al_2018/example_4_synrel.ipynb)\n",
    "* [example_5_astro_ring](examples/frompapers/Stimberg_et_al_2018/example_5_astro_ring.ipynb)\n",
    "* [example_6_COBA_with_astro](examples/frompapers/Stimberg_et_al_2018/example_6_COBA_with_astro.ipynb)\n",
    "* [plot_utils](examples/frompapers/Stimberg_et_al_2018/plot_utils.ipynb)\n",
    "\n",
    "### standalone\n",
    "\n",
    "* [STDP_standalone](examples/standalone/STDP_standalone.ipynb)\n",
    "* [cuba_openmp](examples/standalone/cuba_openmp.ipynb)\n",
    "\n",
    "### compartmental\n",
    "\n",
    "* [bipolar_cell](examples/compartmental/bipolar_cell.ipynb)\n",
    "* [bipolar_with_inputs](examples/compartmental/bipolar_with_inputs.ipynb)\n",
    "* [bipolar_with_inputs2](examples/compartmental/bipolar_with_inputs2.ipynb)\n",
    "* [cylinder](examples/compartmental/cylinder.ipynb)\n",
    "* [hh_with_spikes](examples/compartmental/hh_with_spikes.ipynb)\n",
    "* [hodgkin_huxley_1952](examples/compartmental/hodgkin_huxley_1952.ipynb)\n",
    "* [infinite_cable](examples/compartmental/infinite_cable.ipynb)\n",
    "* [lfp](examples/compartmental/lfp.ipynb)\n",
    "* [morphotest](examples/compartmental/morphotest.ipynb)\n",
    "* [rall](examples/compartmental/rall.ipynb)\n",
    "* [spike_initiation](examples/compartmental/spike_initiation.ipynb)\n"
   ]
  },
  {
   "cell_type": "markdown",
   "metadata": {
    "heading_collapsed": false,
    "level": 2
   },
   "source": [
    "## Tests\n",
    "\n",
    "A suite of tests can be run through executing the code in the [test notebook](test.ipynb) (see the [documentation](http://brian2.readthedocs.io/en/latest/developer/guidelines/testing.html) for more details). "
   ]
  }
 ],
 "metadata": {
  "kernelspec": {
   "display_name": "Python 3",
   "language": "python",
   "name": "python3"
  },
  "language_info": {
   "codemirror_mode": {
    "name": "ipython",
    "version": 3
   },
   "file_extension": ".py",
   "mimetype": "text/x-python",
   "name": "python",
   "nbconvert_exporter": "python",
   "pygments_lexer": "ipython3",
   "version": "3.6.5"
  }
 },
 "nbformat": 4,
 "nbformat_minor": 1
}
