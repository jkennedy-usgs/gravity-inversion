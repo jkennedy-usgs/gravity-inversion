{
  "nbformat_minor": 0, 
  "nbformat": 4, 
  "cells": [
    {
      "execution_count": null, 
      "cell_type": "code", 
      "source": [
        "%matplotlib inline"
      ], 
      "outputs": [], 
      "metadata": {
        "collapsed": false
      }
    }, 
    {
      "source": [
        "\nEquivalent layer for reduction to the pole of magnetic data\n-----------------------------------------------------------------------------\n\nThe equivalent layer can be used to reduce magnetic data to the pole. One of\nthe main advantages of this approach over the FFT based reduction if that the\nequivalent layer doesn't suffer from instabilities at low latitudes.\n\nHowever, both the FFT algorithm\n(:func:`fatiando.gravmag.transform.reduce_to_pole`) and the equivalent layer\nrequired the knowing the **total magnetization direction** of the anomaly\nsource. If the there is only induced magnetization, this will be the direction\nof the Earth's field. But if there is also remanent magnetization or any\nself-demagnetizing effects, then the direction will be different. One method\nfor estimating the total magnetization direction is through\n:class:`fatiando.gravmag.magdir.DipoleMagDir` if the anomaly source is\napproximately spherical.\n\nThis example uses the equivalent layer in :mod:`fatiando.gravmag.eqlayer` to\ngrid and reduce to the pole some magnetic data. There are more advanced methods\nin the module than the one we are showing here. They can be more efficient but\nusually require more configuration.\n\n\n"
      ], 
      "cell_type": "markdown", 
      "metadata": {}
    }, 
    {
      "execution_count": null, 
      "cell_type": "code", 
      "source": [
        "from __future__ import division, print_function\nimport matplotlib.pyplot as plt\nimport numpy as np\nfrom fatiando.gravmag import prism, sphere\nfrom fatiando.gravmag.eqlayer import EQLTotalField\nfrom fatiando.inversion import Damping\nfrom fatiando import gridder, utils, mesher\n\n# First thing to do is make some synthetic data to test the method. We'll use a\n# single prism with only induced magnetization to keep it simple\ninc, dec = -5, 23\nprops = {'magnetization': utils.ang2vec(5, inc, dec)}\nmodel = [mesher.Prism(-2000, 2000, -200, 200, 100, 4000, props)]\n\n# The synthetic data will be generated on a regular grid\narea = [-8000, 8000, -5000, 5000]\nshape = (40, 40)\nx, y, z = gridder.regular(area, shape, z=-150)\n# Generate some noisy data from our model\ndata = utils.contaminate(prism.tf(x, y, z, model, inc, dec), 5, seed=0)\n\n# Now for the equivalent layer. We must setup a layer of dipoles where we'll\n# estimate a magnetization intensity distribution that fits our synthetic data.\n# Notice that we only estimate the intensity. We must provide the magnetization\n# direction of the layer through the sinc and sdec parameters.\nlayer = mesher.PointGrid(area, 700, shape)\neql = (EQLTotalField(x, y, z, data, inc, dec, layer, sinc=inc, sdec=dec)\n       + 1e-15*Damping(layer.size))\neql.fit()\n# Print some statistics of how well the estimated layer fits the data\nresiduals = eql[0].residuals()\nprint(\"Residuals:\")\nprint(\"  mean:\", residuals.mean(), 'nT')\nprint(\"  stddev:\", residuals.std(), 'nT')\n\n# Now I can forward model data anywhere we want. To reduce to the pole, we must\n# provide inc = 90 (or -90) for the Earth's field as well as to the layer's\n# magnetization.\nlayer.addprop('magnetization', utils.ang2vec(eql.estimate_, inc=-90, dec=0))\natpole = sphere.tf(x, y, z, layer, inc=-90, dec=0)\n\n\nfig, axes = plt.subplots(1, 2, figsize=(8, 6))\n\nax = axes[0]\nax.set_title(u'Data at {}\u00b0 inclination'.format(inc))\nax.set_aspect('equal')\namp = np.abs([data.min(), data.max()]).max()\ntmp = ax.tricontourf(y/1000, x/1000, data, 30, cmap='RdBu_r', vmin=-amp,\n                     vmax=amp)\nfig.colorbar(tmp, ax=ax, pad=0.1, aspect=30,\n             orientation='horizontal').set_label('nT')\nax.set_xlabel('y (km)')\nax.set_ylabel('x (km)')\n\nax = axes[1]\nax.set_title('Reduced to the pole')\nax.set_aspect('equal')\namp = np.abs([atpole.min(), atpole.max()]).max()\ntmp = ax.tricontourf(y/1000, x/1000, atpole, 30, cmap='RdBu_r', vmin=-amp,\n                     vmax=amp)\nfig.colorbar(tmp, ax=ax, pad=0.1, aspect=30,\n             orientation='horizontal').set_label('nT')\nax.set_xlabel('y (km)')\n\nplt.tight_layout()\nplt.show()"
      ], 
      "outputs": [], 
      "metadata": {
        "collapsed": false
      }
    }
  ], 
  "metadata": {
    "kernelspec": {
      "display_name": "Python 2", 
      "name": "python2", 
      "language": "python"
    }, 
    "language_info": {
      "mimetype": "text/x-python", 
      "nbconvert_exporter": "python", 
      "name": "python", 
      "file_extension": ".py", 
      "version": "2.7.12", 
      "pygments_lexer": "ipython2", 
      "codemirror_mode": {
        "version": 2, 
        "name": "ipython"
      }
    }
  }
}